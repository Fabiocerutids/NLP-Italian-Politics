{
 "cells": [
  {
   "cell_type": "markdown",
   "id": "cd6a5509",
   "metadata": {
    "id": "cd6a5509"
   },
   "source": [
    "# 5 Structured Prediction \n"
   ]
  },
  {
   "cell_type": "markdown",
   "id": "2a5734fd",
   "metadata": {},
   "source": [
    "NOTE: This notebook follows from the notebook on Text classification.\n",
    "This notebook contains all of the structured prediction procedures we ran to try and respond to research question three as outlined in the notebook on cleaning annd exploratory analysis. The research question of note here is: \n",
    "\n",
    "Can we build an effective POS tagger that is specialised on italian political language ?"
   ]
  },
  {
   "cell_type": "markdown",
   "id": "78ceede7",
   "metadata": {
    "id": "78ceede7"
   },
   "source": [
    "# 5.1 Structured Perceptron "
   ]
  },
  {
   "cell_type": "code",
   "execution_count": null,
   "id": "934a4ac6",
   "metadata": {
    "id": "934a4ac6"
   },
   "outputs": [],
   "source": [
    "import pandas as pd\n",
    "import numpy as np"
   ]
  },
  {
   "cell_type": "code",
   "execution_count": null,
   "id": "f8e285ce",
   "metadata": {
    "id": "f8e285ce"
   },
   "outputs": [],
   "source": [
    "data = pd.read_csv(\"cleaned_nonans.csv\")\n",
    "data = data[['words','pos_tags']]"
   ]
  },
  {
   "cell_type": "code",
   "execution_count": null,
   "id": "111b1e76",
   "metadata": {
    "id": "111b1e76"
   },
   "outputs": [],
   "source": [
    "words = []\n",
    "for row in range(data.shape[0]):\n",
    "    trans = data.words[row].split()\n",
    "    sentence = []\n",
    "    for word in trans:\n",
    "        sentence.append(word)\n",
    "    words.append(sentence)"
   ]
  },
  {
   "cell_type": "code",
   "execution_count": null,
   "id": "7797db9b",
   "metadata": {
    "id": "7797db9b"
   },
   "outputs": [],
   "source": [
    "pos_tags = []\n",
    "for row in range(data.shape[0]):\n",
    "    trans = data.pos_tags[row].split()\n",
    "    sentence = []\n",
    "    for tag in trans:\n",
    "        sentence.append(tag)\n",
    "    pos_tags.append(sentence)"
   ]
  },
  {
   "cell_type": "code",
   "execution_count": null,
   "id": "f70991a8",
   "metadata": {
    "id": "f70991a8"
   },
   "outputs": [],
   "source": [
    "clean_words = []\n",
    "clean_tags = []\n",
    "\n",
    "for i in range(len(words)):\n",
    "    sentence_w = []\n",
    "    sentence_t = []\n",
    "    for j in range(len(words[i])):\n",
    "        if pos_tags[i][j] != \"_\":\n",
    "            sentence_w.append(words[i][j])\n",
    "            sentence_t.append(pos_tags[i][j])\n",
    "    clean_words.append(sentence_w)\n",
    "    clean_tags.append(sentence_t)\n",
    "    \n",
    "    "
   ]
  },
  {
   "cell_type": "code",
   "execution_count": null,
   "id": "fc360817",
   "metadata": {
    "id": "fc360817",
    "outputId": "49934e6f-75a0-4e11-8f1b-775c5a3edf7b"
   },
   "outputs": [
    {
     "data": {
      "text/plain": [
       "(True, 13170)"
      ]
     },
     "execution_count": 17,
     "metadata": {},
     "output_type": "execute_result"
    }
   ],
   "source": [
    "len(clean_words)==len(clean_tags), len(clean_words)"
   ]
  },
  {
   "cell_type": "code",
   "execution_count": null,
   "id": "70cdd4c4",
   "metadata": {
    "id": "70cdd4c4"
   },
   "outputs": [],
   "source": [
    "np.random.seed(2)\n",
    "a = np.arange(len(clean_words))\n",
    "np.random.shuffle(a)\n",
    "train_index = a[:len(clean_words)*3//5]\n",
    "dev_index = a[len(clean_words)*3//5:len(clean_words)*4//5]\n",
    "test_index = a[len(clean_words)*4//5:]\n"
   ]
  },
  {
   "cell_type": "code",
   "execution_count": null,
   "id": "a003ac04",
   "metadata": {
    "id": "a003ac04"
   },
   "outputs": [],
   "source": [
    "train_words = []\n",
    "train_tags = []\n",
    "for i in train_index:\n",
    "    train_words.append(clean_words[i])\n",
    "    train_tags.append(clean_tags[i])\n",
    "dev_words = []\n",
    "dev_tags = []\n",
    "for i in dev_index:\n",
    "    dev_words.append(clean_words[i])\n",
    "    dev_tags.append(clean_tags[i])\n",
    "test_words = []\n",
    "test_tags = []\n",
    "for i in test_index:\n",
    "    test_words.append(clean_words[i])\n",
    "    test_tags.append(clean_tags[i])"
   ]
  },
  {
   "cell_type": "code",
   "execution_count": null,
   "id": "8d115866",
   "metadata": {
    "id": "8d115866"
   },
   "outputs": [],
   "source": [
    "train_file = pd.DataFrame({'words':train_words,'tags':train_tags})\n",
    "dev_file = pd.DataFrame({'words':dev_words,'tags':dev_tags})\n",
    "test_file = pd.DataFrame({'words':test_words,'tags':test_tags})"
   ]
  },
  {
   "cell_type": "code",
   "execution_count": 42,
   "id": "698a6f71",
   "metadata": {
    "id": "698a6f71"
   },
   "outputs": [],
   "source": [
    "from collections import defaultdict, Counter\n",
    "import json\n",
    "import re\n",
    "import numpy as np\n",
    "import sys\n",
    "import pickle\n",
    "import random\n",
    "\n",
    "np.set_printoptions(precision=2)\n",
    "\n",
    "users = re.compile('@[^ ]+')\n",
    "numbers = re.compile('[0-9]')\n",
    "urls = re.compile(\"(https?:\\/\\/)?(?:www\\.|(?!www))?[^\\s\\.]+\\.[^\\s]{2,}|(www)?\\.[^\\s]+\\.[^\\s]{2,}\")"
   ]
  },
  {
   "cell_type": "markdown",
   "id": "970e5560",
   "metadata": {
    "id": "d9d350de"
   },
   "source": [
    "We have modified the Structured Perceptron so that it was able to train directly on DataFrames.\n",
    "The major modifications have been done on the features that the algorithm stores for the corpus, in fact, as our dataset is composed of italian sentences, we wanted to account for some of the variables that may have a huge impact in the italian linguistic structure. We, indeed accounted for the adverbs suffixes (the last five words in the word), which are constant in italian and corresponds to -MENTE. We accounted also for those for the previous and the next word, as the easier the model gets the adverb the easier is able to understand its surrounding. Moreover, we considered the last letter of the single word, as in Italian language the last word may present the accent, giving to the word a complete different meaning (pero != però). The remaining features were left similar to english,as italian, even if with some differencies (adjective after the name) tend to keep the same ordinal structure present in the english language (name + verb + object). Indeed, we had previously began by running a structured perceptron without these features and after adding them we did not see significant performance. However, we decided to keep this version with the new features as, consistent with the aim of our project, they could be of help and provide significant improvements to other researchers working with italian data."
   ]
  },
  {
   "cell_type": "code",
   "execution_count": 35,
   "id": "5e80e800",
   "metadata": {
    "id": "5e80e800"
   },
   "outputs": [],
   "source": [
    "class StructuredPerceptron(object):\n",
    "\n",
    "    def __init__(self):\n",
    "        self.tags = set()\n",
    "        self.feature_weights = defaultdict(lambda: defaultdict(float)) \n",
    "        self.weight_totals = defaultdict(lambda: defaultdict(float)) \n",
    "        self.timestamps = defaultdict(lambda: defaultdict(float)) \n",
    "\n",
    "        self.tag_dict = defaultdict(set) \n",
    "        self.train_accuracy = []\n",
    "        self.dev_accuracy = []\n",
    "\n",
    "        self.START = \"__START__\"\n",
    "        self.END = \"__END__\"\n",
    "        \n",
    "        \n",
    "    def normalize(self, word):\n",
    "        return re.sub(urls, 'URL', re.sub(users, '@USER', re.sub(numbers, '0', word.strip().lower())))\n",
    "\n",
    "    \n",
    "    def evaluate(self, data_instances, method='greedy'):\n",
    "        correct = 0\n",
    "        total = 0\n",
    "        for (words, tags) in data_instances:\n",
    "            preds = self.predict(words, method=method)\n",
    "            matches = sum(map(lambda x: int(x[0]==x[1]), zip(preds, tags)))\n",
    "            correct += matches\n",
    "            total += len(tags)\n",
    "        \n",
    "        return correct/total\n",
    "        \n",
    "    \n",
    "    def fit(self,train_file, \n",
    "            dev_file=None, \n",
    "            iterations=10, \n",
    "            learning_rate=0.25, \n",
    "            inference='greedy', \n",
    "            verbose=False):\n",
    "        \n",
    "        instances = [(words, tags) for (words, tags) in zip(train_file.words,train_file.tags)]\n",
    "        for (words, tags) in instances:\n",
    "            self.tags.update(set(tags))\n",
    "\n",
    "            for word, tag in zip(words, tags):\n",
    "                self.tag_dict[self.normalize(word)].add(tag)\n",
    "        \n",
    "        if dev_file is not None:\n",
    "            dev_instances = [(words, tags) for (words, tags) in zip(dev_file.words,dev_file.tags)]\n",
    "            \n",
    "        for iteration in range(1, iterations+1):\n",
    "            correct = 0\n",
    "            total = 0\n",
    "            if verbose:\n",
    "                print('Iteration {}'.format(iteration+1), file=sys.stderr, flush=True)\n",
    "                print(\"*\" * 15, file=sys.stderr, flush=True)\n",
    "\n",
    "            random.shuffle(instances) \n",
    "            for i, (words, tags) in enumerate(instances):\n",
    "                if i > 0:\n",
    "                    if i%1000==0:\n",
    "                        print('%s'%i, file=sys.stderr, flush=True)\n",
    "                    elif i%20==0:\n",
    "                        print('.', file=sys.stderr, flush=True, end='')\n",
    "\n",
    "                prediction = self.predict(words, method=inference) #list of words\n",
    "\n",
    "                global_gold_features, global_prediction_features = self.get_global_features(words, prediction, tags)\n",
    "                                    \n",
    "                \n",
    "                for tag, fids in global_gold_features.items():\n",
    "                    for fid, count in fids.items():\n",
    "                        nr_iters_at_this_weight = iteration - self.timestamps[fid][tag]\n",
    "                        self.weight_totals[fid][tag] += nr_iters_at_this_weight * self.feature_weights[fid][tag]\n",
    "                        self.timestamps[fid][tag] = iteration\n",
    "                        self.feature_weights[fid][tag] += learning_rate * count\n",
    "\n",
    "                for tag, fids in global_prediction_features.items():\n",
    "                    for fid, count in fids.items():\n",
    "                        nr_iters_at_this_weight = iteration - self.timestamps[fid][tag]\n",
    "                        self.weight_totals[fid][tag] += nr_iters_at_this_weight * self.feature_weights[fid][tag]\n",
    "                        self.timestamps[fid][tag] = iteration\n",
    "                        self.feature_weights[fid][tag] -= learning_rate * count\n",
    "                        \n",
    "                correct += sum([int(predicted_tag == true_tag) for predicted_tag, true_tag in zip(prediction, tags)])\n",
    "                total += len(tags)\n",
    "\n",
    "                # output examples\n",
    "                if verbose and i%1000==0:\n",
    "                    print(\"current word accuracy:{:.2f}\".format(correct/total))\n",
    "                    print(list(zip(words, \n",
    "                                   [self.normalize(word) for word in words], \n",
    "                                   tags, \n",
    "                                   prediction)), file=sys.stderr, flush=True)\n",
    "            \n",
    "            print('\\t{} features'.format(len(self.feature_weights)), file=sys.stderr, flush=True)\n",
    "            print('\\tTraining accuracy: {:.2f}\\n'.format(correct/total), file=sys.stderr, flush=True)\n",
    "            self.train_accuracy.append(correct/total)\n",
    "            if dev_file is not None:\n",
    "                print('\\tDevelopment accuracy: {:.2f}\\n'.format(self.evaluate(dev_instances, method=inference)), file=sys.stderr, flush=True)\n",
    "                self.dev_accuracy.append(self.evaluate(dev_instances, method=inference))\n",
    "         \n",
    "        for feature, tags in self.feature_weights.items():\n",
    "            for tag in tags:\n",
    "                total = self.weight_totals[feature][tag]\n",
    "                total += (iterations - self.timestamps[feature][tag]) * self.feature_weights[feature][tag]\n",
    "                averaged = round(total / float(iterations), 3)\n",
    "                self.feature_weights[feature][tag] = averaged\n",
    "\n",
    "\n",
    "    def get_features(self, word, previous_tag2, previous_tag, words, i):\n",
    "        \"\"\"\n",
    "        get all features that can be derived from the word and previous tags\n",
    "        \"\"\"\n",
    "        prefix = word[:3]\n",
    "        suffix = word[-3:]\n",
    "        adverb_suffix = word[-5:]\n",
    "\n",
    "        features = {\n",
    "                    'PREFIX={}'.format(prefix),\n",
    "                    'SUFFIX={}'.format(suffix),\n",
    "                    'ADVERB_SUFFIX={}'.format(adverb_suffix),\n",
    "                    'LEN<=3={}'.format(len(word)<=3),\n",
    "                    'LENGTH={}'.format(len(word)),\n",
    "                    'FIRST_LETTER={}'.format(word[0]),\n",
    "                    'WORD={}'.format(word),\n",
    "                    'NORM_WORD={}'.format(words[i]),\n",
    "                    'PREV_WORD={}'.format(words[i-1]),\n",
    "                    'PREV_WORD_PREFIX={}'.format(words[i-1][:3]),\n",
    "                    'PREV_WORD_SUFFIX={}'.format(words[i-1][-3:]),\n",
    "                    'PREV_WORD+WORD={}+{}'.format(words[i-1], words[i]),\n",
    "                    'NEXT_WORD={}'.format(words[i+1]),\n",
    "                    'NEXT_WORD_PREFIX={}'.format(words[i+1][:3]),\n",
    "                    'NEXT_WORD_SUFFIX={}'.format(words[i+1][-3:]),\n",
    "                    'WORD+NEXT_WORD={}'.format(word, words[i+1]),\n",
    "                    'NEXT_2WORDS={}+{}'.format(words[i+1], words[i+2]),\n",
    "                    'PREV_TAG={}'.format(previous_tag),                 \n",
    "                    'PREV_TAG2={}'.format(previous_tag2),                 \n",
    "                    'PREV_TAG_BIGRAM={}+{}'.format(previous_tag2, previous_tag),  \n",
    "                    'PREV_TAG+WORD={}+{}'.format(previous_tag, word),            \n",
    "                    'PREV_TAG+PREFIX={}_{}'.format(previous_tag, prefix),       \n",
    "                    'PREV_TAG+SUFFIX={}_{}'.format(previous_tag, suffix),       \n",
    "                    'WORD+TAG_BIGRAM={}+{}+{}'.format(word, previous_tag2, previous_tag),\n",
    "                    'SUFFIX+2TAGS={}+{}+{}'.format(suffix, previous_tag2, previous_tag),\n",
    "                    'PREFIX+2TAGS={}+{}+{}'.format(prefix, previous_tag2, previous_tag),\n",
    "                    'LAST_LETTER{}'.format(word[-1]),\n",
    "                    'PREV_WORD_ADVERB_SUFFIX={}'.format(words[i-1][-5:]),\n",
    "                    'NEXT_WORD_ADVERB_SUFFIX={}'.format(words[i+1][-5:]),\n",
    "                    'BIAS'\n",
    "            }\n",
    "        \n",
    "        \n",
    "        return features\n",
    "    \n",
    "    \n",
    "    def get_global_features(self, words, predicted_tags, true_tags):\n",
    "        \n",
    "        context = [self.START] + [self.normalize(word) for word in words] + [self.END, self.END]\n",
    "\n",
    "        global_gold_features = defaultdict(lambda: Counter())\n",
    "        global_prediction_features = defaultdict(lambda: Counter())\n",
    "\n",
    "        prev_predicted_tag = self.START\n",
    "        prev_predicted_tag2 = self.START\n",
    "        \n",
    "        for j, (word, predicted_tag, true_tag) in enumerate(zip(words, predicted_tags, true_tags)):\n",
    "            prediction_features = self.get_features(word, prev_predicted_tag2, prev_predicted_tag, context, j+1)\n",
    "\n",
    "            global_prediction_features[predicted_tag].update(prediction_features)\n",
    "            global_gold_features[true_tag].update(prediction_features)\n",
    "\n",
    "            prev_predicted_tag2 = prev_predicted_tag\n",
    "            prev_predicted_tag = predicted_tag\n",
    "\n",
    "        return global_gold_features, global_prediction_features\n",
    "            \n",
    "    \n",
    "    def get_scores(self, features):\n",
    "        \n",
    "        scores = defaultdict(float)\n",
    "        \n",
    "        for feature in features:\n",
    "            if feature not in self.feature_weights:\n",
    "                continue\n",
    "            weights = self.feature_weights[feature]\n",
    "            for tag, weight in weights.items():\n",
    "                scores[tag] += weight\n",
    "\n",
    "        \n",
    "        if not scores:\n",
    "            scores[list(self.tags)[0]] = 1\n",
    "        \n",
    "        return scores\n",
    "\n",
    "\n",
    "    def predict(self, words, method='greedy'):\n",
    "        \n",
    "        if method == 'greedy':\n",
    "            return self.predict_greedy(words)\n",
    "        elif method == 'viterbi':\n",
    "            return self.predict_viterbi(words)\n",
    "\n",
    "\n",
    "    def predict_viterbi(self, words):\n",
    "        '''\n",
    "        predict using Viterbi decoding\n",
    "        '''\n",
    "        context = [self.START] + [self.normalize(word) for word in words] + [self.END, self.END]\n",
    "\n",
    "        N = len(words)\n",
    "        M = len(self.tags) \n",
    "        tags = sorted(self.tags)\n",
    "\n",
    "        \n",
    "        Q = np.ones((M, N)) * float('-Inf')\n",
    "        backpointers = np.ones((M, N), dtype=np.int16) * -1 \n",
    "\n",
    "        \n",
    "        features = self.get_features(words[0], self.START, self.START, context, 1)\n",
    "        scores = self.get_scores(features)\n",
    "        allowed_initial_tags = self.tag_dict[context[1]]\n",
    "\n",
    "        for j in range(M):\n",
    "            if not allowed_initial_tags or tags[j] in allowed_initial_tags:\n",
    "                Q[j,0] = scores[tags[j]]\n",
    "\n",
    "        for i in range(1, N):\n",
    "            allowed_tags = self.tag_dict[context[i+1]]\n",
    "\n",
    "            for j in range(M):\n",
    "                best_score = 0.0\n",
    "                prev_tag = tags[j]\n",
    "\n",
    "                allowed_previous_tags = self.tag_dict[context[i]]\n",
    "                if allowed_previous_tags and prev_tag not in allowed_previous_tags:\n",
    "                    continue\n",
    "\n",
    "                best_before = Q[j,i-1] \n",
    "\n",
    "                for k in range(M):\n",
    "                    if i == 1:\n",
    "                        prev2_tag = self.START\n",
    "                    else:\n",
    "                        prev2_tag = tags[k]\n",
    "                        allowed_previous2_tags = self.tag_dict[context[i-1]]\n",
    "                        if allowed_previous2_tags and prev2_tag not in allowed_previous2_tags:\n",
    "                            continue\n",
    "\n",
    "                    features = self.get_features(words[i], prev2_tag, prev_tag, context, i+1)\n",
    "                    scores = self.get_scores(features)\n",
    "\n",
    "                    for t in range(M):\n",
    "                        tag = tags[t]\n",
    "                        if not allowed_tags or tag in allowed_tags:\n",
    "                            tag_score = best_before + scores[tag]\n",
    "\n",
    "                            if tag_score > best_score:\n",
    "                                Q[t,i] = tag_score\n",
    "                                best_score = tag_score\n",
    "                                backpointers[t,i] = j\n",
    "\n",
    "        best_id = Q[:,-1].argmax()\n",
    "\n",
    "        predtags = [tags[best_id]]\n",
    "\n",
    "        for i in range(N-1,0,-1):\n",
    "            idx = backpointers[best_id, i]\n",
    "            predtags.append(tags[idx])\n",
    "            best_id = idx\n",
    "\n",
    "        return predtags[::-1]         \n",
    "\n",
    "    \n",
    "    def predict_greedy(self, words):\n",
    "       \n",
    "        context = [self.START] + [self.normalize(word) for word in words] + [self.END, self.END]\n",
    "                \n",
    "        prev_predicted_tag = self.START\n",
    "        prev_predicted_tag2 = self.START\n",
    "\n",
    "        out = []\n",
    "\n",
    "        for j, word in enumerate(words):\n",
    "            predicted_tag = list(self.tag_dict[context[j+1]])[0] if len(self.tag_dict[context[j+1]]) == 1 else None \n",
    "\n",
    "            if not predicted_tag:\n",
    "                prediction_features = self.get_features(word, prev_predicted_tag2, prev_predicted_tag, context, j+1)\n",
    "                scores = self.get_scores(prediction_features) \n",
    "                \n",
    "                predicted_tag = max(scores, key=scores.get)\n",
    "\n",
    "            prev_predicted_tag2 = prev_predicted_tag\n",
    "            prev_predicted_tag = predicted_tag\n",
    "\n",
    "            out.append(predicted_tag)\n",
    "\n",
    "        return out\n",
    "\n",
    "        \n",
    "\n",
    "    def save(self, file_name):\n",
    "        print(\"saving model...\", end=' ', file=sys.stderr)\n",
    "        with open(file_name, \"wb\") as model:\n",
    "            save_feature_weights = defaultdict(lambda: defaultdict(float))\n",
    "            save_feature_weights.update(self.feature_weights)\n",
    "            save_tag_dict = defaultdict(set)\n",
    "            save_tag_dict.update(self.tag_dict)\n",
    "\n",
    "            save_feature_weights.default_factory = None\n",
    "            save_tag_dict.default_factory = None\n",
    "            pickle.dump((save_feature_weights, save_tag_dict,self.tags,self.train_accuracy,self.dev_accuracy),\n",
    "                     model, -1)\n",
    "        print(\"done\", file=sys.stderr)\n",
    "\n",
    "\n",
    "    def load(self, file_name):\n",
    "\n",
    "        print(\"loading model...\", end=' ', file=sys.stderr)\n",
    "        with open(file_name, 'rb') as model:\n",
    "            try:\n",
    "                parameters = pickle.load(model)\n",
    "            except IOError:\n",
    "                msg = (\"No such model file.\")\n",
    "                raise MissingCorpusError(msg)\n",
    "\n",
    "            feature_weights, tag_dict, tags, train_accuracy,dev_accuracy = parameters\n",
    "            self.tags = tags\n",
    "            self.train_accuracy = train_accuracy\n",
    "            self.dev_accuracy = dev_accuracy\n",
    "\n",
    "            self.feature_weights = defaultdict(lambda: defaultdict(float))\n",
    "            self.tag_dict = defaultdict(set)\n",
    "            \n",
    "            self.feature_weights.update(feature_weights)\n",
    "            self.tag_dict.update(tag_dict)\n",
    "        print(\"done\", file=sys.stderr)\n",
    "        return None"
   ]
  },
  {
   "cell_type": "markdown",
   "id": "2ddf0fa2",
   "metadata": {
    "id": "2ddf0fa2"
   },
   "source": [
    "# 5.1.1 Greedy Model"
   ]
  },
  {
   "cell_type": "code",
   "execution_count": 40,
   "id": "4fKXlURuxfve",
   "metadata": {
    "id": "4fKXlURuxfve"
   },
   "outputs": [],
   "source": [
    "from collections import defaultdict"
   ]
  },
  {
   "cell_type": "code",
   "execution_count": null,
   "id": "b89486dc",
   "metadata": {
    "id": "b89486dc",
    "outputId": "c5e714a2-9e2e-4697-f423-bfdd738781d7"
   },
   "outputs": [
    {
     "name": "stderr",
     "output_type": "stream",
     "text": [
      ".................................................1000\n",
      ".................................................2000\n",
      ".................................................3000\n",
      ".................................................4000\n",
      ".................................................5000\n",
      ".................................................6000\n",
      ".................................................7000\n",
      ".............................................\t2331727 features\n",
      "\tTraining accuracy: 0.98\n",
      "\n",
      "\tDevelopment accuracy: 0.98\n",
      "\n",
      ".................................................1000\n",
      ".................................................2000\n",
      ".................................................3000\n",
      ".................................................4000\n",
      ".................................................5000\n",
      ".................................................6000\n",
      ".................................................7000\n",
      ".............................................\t2361140 features\n",
      "\tTraining accuracy: 0.99\n",
      "\n",
      "\tDevelopment accuracy: 0.99\n",
      "\n",
      ".................................................1000\n",
      ".................................................2000\n",
      ".................................................3000\n",
      ".................................................4000\n",
      ".................................................5000\n",
      ".................................................6000\n",
      ".................................................7000\n",
      ".............................................\t2372567 features\n",
      "\tTraining accuracy: 0.99\n",
      "\n",
      "\tDevelopment accuracy: 0.99\n",
      "\n",
      ".................................................1000\n",
      ".................................................2000\n",
      ".................................................3000\n",
      ".................................................4000\n",
      ".................................................5000\n",
      ".................................................6000\n",
      ".................................................7000\n",
      ".............................................\t2379136 features\n",
      "\tTraining accuracy: 0.99\n",
      "\n",
      "\tDevelopment accuracy: 0.99\n",
      "\n",
      ".................................................1000\n",
      ".................................................2000\n",
      ".................................................3000\n",
      ".................................................4000\n",
      ".................................................5000\n",
      ".................................................6000\n",
      ".................................................7000\n",
      ".............................................\t2383794 features\n",
      "\tTraining accuracy: 0.99\n",
      "\n",
      "\tDevelopment accuracy: 0.99\n",
      "\n",
      ".................................................1000\n",
      ".................................................2000\n",
      ".................................................3000\n",
      ".................................................4000\n",
      ".................................................5000\n",
      ".................................................6000\n",
      ".................................................7000\n",
      ".............................................\t2387236 features\n",
      "\tTraining accuracy: 0.99\n",
      "\n",
      "\tDevelopment accuracy: 0.99\n",
      "\n",
      ".................................................1000\n",
      ".................................................2000\n",
      ".................................................3000\n",
      ".................................................4000\n",
      ".................................................5000\n",
      ".................................................6000\n",
      ".................................................7000\n",
      ".............................................\t2389662 features\n",
      "\tTraining accuracy: 0.99\n",
      "\n",
      "\tDevelopment accuracy: 0.99\n",
      "\n",
      ".................................................1000\n",
      ".................................................2000\n",
      ".................................................3000\n",
      ".................................................4000\n",
      ".................................................5000\n",
      ".................................................6000\n",
      ".................................................7000\n",
      ".............................................\t2391777 features\n",
      "\tTraining accuracy: 0.99\n",
      "\n",
      "\tDevelopment accuracy: 0.99\n",
      "\n",
      ".................................................1000\n",
      ".................................................2000\n",
      ".................................................3000\n",
      ".................................................4000\n",
      ".................................................5000\n",
      ".................................................6000\n",
      ".................................................7000\n",
      ".............................................\t2393465 features\n",
      "\tTraining accuracy: 0.99\n",
      "\n",
      "\tDevelopment accuracy: 0.99\n",
      "\n",
      ".................................................1000\n",
      ".................................................2000\n",
      ".................................................3000\n",
      ".................................................4000\n",
      ".................................................5000\n",
      ".................................................6000\n",
      ".................................................7000\n",
      ".............................................\t2394832 features\n",
      "\tTraining accuracy: 0.99\n",
      "\n",
      "\tDevelopment accuracy: 0.99\n",
      "\n"
     ]
    },
    {
     "name": "stdout",
     "output_type": "stream",
     "text": [
      "CPU times: user 1h 58min 54s, sys: 1h 54min 10s, total: 3h 53min 5s\n",
      "Wall time: 9h 15min 52s\n"
     ]
    },
    {
     "name": "stderr",
     "output_type": "stream",
     "text": [
      "saving model... done\n"
     ]
    }
   ],
   "source": [
    "############# Very Long to run##### A saved pickle version of the model is available below\n",
    "sp = StructuredPerceptron()\n",
    "inference_method='greedy'\n",
    "%time sp.fit(train_file, dev_file=dev_file, iterations=7, inference=inference_method)\n",
    "#sp.save('model_new_greedy.pickle')\n"
   ]
  },
  {
   "cell_type": "code",
   "execution_count": 44,
   "id": "X0AKQWRJwcWv",
   "metadata": {
    "colab": {
     "base_uri": "https://localhost:8080/"
    },
    "id": "X0AKQWRJwcWv",
    "outputId": "a76715b2-c114-4507-8b61-59ff1e9663c3"
   },
   "outputs": [
    {
     "name": "stdout",
     "output_type": "stream",
     "text": [
      "Requirement already satisfied: pickle5 in /usr/local/lib/python3.7/dist-packages (0.0.12)\n"
     ]
    }
   ],
   "source": [
    "!pip3 install pickle5\n",
    "import pickle5 as pickle "
   ]
  },
  {
   "cell_type": "code",
   "execution_count": 45,
   "id": "7d69b5f3",
   "metadata": {
    "colab": {
     "base_uri": "https://localhost:8080/"
    },
    "id": "7d69b5f3",
    "outputId": "304099a9-ed25-42b7-8cf4-fe1b619e589c"
   },
   "outputs": [
    {
     "name": "stderr",
     "output_type": "stream",
     "text": [
      "loading model... done\n"
     ]
    }
   ],
   "source": [
    "#Loading the Greedy Model \n",
    "sp2 = StructuredPerceptron()\n",
    "sp2.load('model_new_greedy.pickle')"
   ]
  },
  {
   "cell_type": "code",
   "execution_count": null,
   "id": "m9PenfMBz0Bp",
   "metadata": {
    "id": "m9PenfMBz0Bp"
   },
   "outputs": [],
   "source": [
    "import matplotlib.pyplot as plt"
   ]
  },
  {
   "cell_type": "code",
   "execution_count": null,
   "id": "da43569a",
   "metadata": {
    "colab": {
     "base_uri": "https://localhost:8080/",
     "height": 283
    },
    "id": "da43569a",
    "outputId": "f1ee8e1e-f981-426b-ad28-e610dcdce430"
   },
   "outputs": [
    {
     "data": {
      "text/plain": [
       "[<matplotlib.lines.Line2D at 0x7f5d93f482d0>]"
      ]
     },
     "execution_count": 20,
     "metadata": {},
     "output_type": "execute_result"
    },
    {
     "data": {
      "image/png": "[encoded data removed]",
      "text/plain": [
       "<Figure size 864x288 with 2 Axes>"
      ]
     },
     "metadata": {
      "needs_background": "light"
     },
     "output_type": "display_data"
    }
   ],
   "source": [
    "train_accuracy = sp2.train_accuracy\n",
    "dev_accuracy = sp2.dev_accuracy\n",
    "\n",
    "figs,axs = plt.subplots(1,2,figsize=(12,4))\n",
    "ax = axs[0]\n",
    "ax.plot(train_accuracy)\n",
    "\n",
    "ax = axs[1]\n",
    "ax.plot(dev_accuracy)\n"
   ]
  },
  {
   "cell_type": "markdown",
   "id": "b1f5e958",
   "metadata": {},
   "source": [
    "We plotted the accuracy on both the training and dev set to tune the number of iterations we want the algorithm to run. The plots confirms that the higher the iterations the better is the result on the dev test. We decided indeed to set the parameter at 10 iterations."
   ]
  },
  {
   "cell_type": "code",
   "execution_count": 46,
   "id": "5317cd5a",
   "metadata": {
    "colab": {
     "base_uri": "https://localhost:8080/"
    },
    "id": "5317cd5a",
    "outputId": "6c2dbc84-3969-4480-d5d2-7bc1a63de406"
   },
   "outputs": [
    {
     "name": "stdout",
     "output_type": "stream",
     "text": [
      "Test accuracy:0.9902335171688404\n"
     ]
    }
   ],
   "source": [
    "#Test performance\n",
    "test_instances = [(words,tags) for words,tags in zip(test_file.words,test_file.tags)]\n",
    "print(f\"Test accuracy:{sp2.evaluate(test_instances,'greedy')}\")"
   ]
  },
  {
   "cell_type": "code",
   "execution_count": 48,
   "id": "I3DSYaLozGrJ",
   "metadata": {
    "id": "I3DSYaLozGrJ"
   },
   "outputs": [],
   "source": [
    "greedy_acc = sp2.evaluate(test_instances,'greedy')"
   ]
  },
  {
   "cell_type": "code",
   "execution_count": null,
   "id": "075941f0",
   "metadata": {
    "id": "075941f0",
    "outputId": "6fb58ae7-d2d9-475d-9ff3-c291ba39434c"
   },
   "outputs": [
    {
     "name": "stdout",
     "output_type": "stream",
     "text": [
      "['DET', 'NOUN', 'AUX', 'AUX', 'DET', 'ADJ', 'ADP', 'VERB']\n"
     ]
    }
   ],
   "source": [
    "print(sp2.predict('Il ministro è stato il primo a parlare'.split(),method='greedy'))"
   ]
  },
  {
   "cell_type": "code",
   "execution_count": null,
   "id": "63a31527",
   "metadata": {
    "id": "63a31527",
    "outputId": "0b656a7e-65f4-4069-f9de-a6f8942cdf62"
   },
   "outputs": [
    {
     "name": "stdout",
     "output_type": "stream",
     "text": [
      "['ADV', 'AUX', 'DET', 'NOUN', 'ADJ', 'ADP', 'DET', 'NOUN']\n"
     ]
    }
   ],
   "source": [
    "print(sp2.predict('Oggi è un giorno storico per questo paese'.split(),method='greedy'))"
   ]
  },
  {
   "cell_type": "code",
   "execution_count": null,
   "id": "bd9fd865",
   "metadata": {
    "id": "bd9fd865",
    "outputId": "e1a69f78-1332-43fe-cc99-07059ad14104"
   },
   "outputs": [
    {
     "name": "stdout",
     "output_type": "stream",
     "text": [
      "['PRON', 'AUX', 'AUX', 'VERB']\n"
     ]
    }
   ],
   "source": [
    "print(sp2.predict(\"L'atto è stato ratificato\".split(),method='greedy'))"
   ]
  },
  {
   "cell_type": "markdown",
   "id": "53231ffd",
   "metadata": {
    "id": "53231ffd"
   },
   "source": [
    "# 5.1.2 Viterbi Model"
   ]
  },
  {
   "cell_type": "markdown",
   "id": "402d09cb",
   "metadata": {
    "id": "d3756a5d"
   },
   "source": [
    "We also trained a Viterbi Model on the data, to confront the comparison the performances and choose our baseline"
   ]
  },
  {
   "cell_type": "code",
   "execution_count": null,
   "id": "4811ef4c",
   "metadata": {
    "id": "4811ef4c"
   },
   "outputs": [],
   "source": [
    "############# Very Long to run##### A saved pickle version of the model is available below\n",
    "sp2 = StructuredPerceptron()\n",
    "inference_method='viterbi'\n",
    "%time sp2.fit(train_file, dev_file=dev_file, iterations=10, inference=inference_method)\n",
    "#sp2.save('model_viterbi.pickle')"
   ]
  },
  {
   "cell_type": "code",
   "execution_count": 50,
   "id": "9eeb232d",
   "metadata": {
    "id": "9eeb232d"
   },
   "outputs": [],
   "source": [
    "class StructuredPerceptron(object):\n",
    "\n",
    "    def __init__(self):\n",
    "        \n",
    "        self.tags = set()\n",
    "        self.feature_weights = defaultdict(lambda: defaultdict(float)) \n",
    "        self.weight_totals = defaultdict(lambda: defaultdict(float)) \n",
    "        self.timestamps = defaultdict(lambda: defaultdict(float)) \n",
    "\n",
    "        self.tag_dict = defaultdict(set) \n",
    "        self.train_accuracy = []\n",
    "        self.dev_accuracy = []\n",
    "\n",
    "        self.START = \"__START__\"\n",
    "        self.END = \"__END__\"\n",
    "        \n",
    "        \n",
    "    def normalize(self, word):\n",
    "        return re.sub(urls, 'URL', re.sub(users, '@USER', re.sub(numbers, '0', word.strip().lower())))\n",
    "\n",
    "    \n",
    "    def evaluate(self, data_instances, method='greedy'):\n",
    "        correct = 0\n",
    "        total = 0\n",
    "        for (words, tags) in data_instances:\n",
    "            preds = self.predict(words, method=method)\n",
    "            matches = sum(map(lambda x: int(x[0]==x[1]), zip(preds, tags)))\n",
    "            correct += matches\n",
    "            total += len(tags)\n",
    "        \n",
    "        return correct/total\n",
    "        \n",
    "    \n",
    "    def fit(self,train_file, \n",
    "            dev_file=None, \n",
    "            iterations=10, \n",
    "            learning_rate=0.25, \n",
    "            inference='greedy', \n",
    "            verbose=False):\n",
    "        \n",
    "        instances = [(words, tags) for (words, tags) in zip(train_file.words,train_file.tags)]\n",
    "        for (words, tags) in instances:\n",
    "            self.tags.update(set(tags))\n",
    "\n",
    "            for word, tag in zip(words, tags):\n",
    "                self.tag_dict[self.normalize(word)].add(tag)\n",
    "        \n",
    "        if dev_file is not None:\n",
    "            dev_instances = [(words, tags) for (words, tags) in zip(dev_file.words,dev_file.tags)]\n",
    "            \n",
    "        for iteration in range(1, iterations+1):\n",
    "            correct = 0\n",
    "            total = 0\n",
    "            if verbose:\n",
    "                print('Iteration {}'.format(iteration+1), file=sys.stderr, flush=True)\n",
    "                print(\"*\" * 15, file=sys.stderr, flush=True)\n",
    "\n",
    "            random.shuffle(instances) #prevents weird cycles\n",
    "            for i, (words, tags) in enumerate(instances):\n",
    "                if i > 0:\n",
    "                    if i%1000==0:\n",
    "                        print('%s'%i, file=sys.stderr, flush=True)\n",
    "                    elif i%20==0:\n",
    "                        print('.', file=sys.stderr, flush=True, end='')\n",
    "\n",
    "                prediction = self.predict(words, method=inference) \n",
    "\n",
    "                global_gold_features, global_prediction_features = self.get_global_features(words, prediction, tags)\n",
    "                                    \n",
    "\n",
    "                for tag, fids in global_gold_features.items():\n",
    "                    for fid, count in fids.items():\n",
    "                        nr_iters_at_this_weight = iteration - self.timestamps[fid][tag]\n",
    "                        self.weight_totals[fid][tag] += nr_iters_at_this_weight * self.feature_weights[fid][tag]\n",
    "                        self.timestamps[fid][tag] = iteration\n",
    "                        self.feature_weights[fid][tag] += learning_rate * count\n",
    "\n",
    "                for tag, fids in global_prediction_features.items():\n",
    "                    for fid, count in fids.items():\n",
    "                        nr_iters_at_this_weight = iteration - self.timestamps[fid][tag]\n",
    "                        self.weight_totals[fid][tag] += nr_iters_at_this_weight * self.feature_weights[fid][tag]\n",
    "                        self.timestamps[fid][tag] = iteration\n",
    "                        self.feature_weights[fid][tag] -= learning_rate * count\n",
    "                        \n",
    "                correct += sum([int(predicted_tag == true_tag) for predicted_tag, true_tag in zip(prediction, tags)])\n",
    "                total += len(tags)\n",
    "\n",
    "                if verbose and i%1000==0:\n",
    "                    print(\"current word accuracy:{:.2f}\".format(correct/total))\n",
    "                    print(list(zip(words, \n",
    "                                   [self.normalize(word) for word in words], \n",
    "                                   tags, \n",
    "                                   prediction)), file=sys.stderr, flush=True)\n",
    "            \n",
    "            print('\\t{} features'.format(len(self.feature_weights)), file=sys.stderr, flush=True)\n",
    "            print('\\tTraining accuracy: {:.2f}\\n'.format(correct/total), file=sys.stderr, flush=True)\n",
    "            self.train_accuracy.append(correct/total)\n",
    "            if dev_file is not None:\n",
    "                print('\\tDevelopment accuracy: {:.2f}\\n'.format(self.evaluate(dev_instances, method=inference)), file=sys.stderr, flush=True)\n",
    "                self.dev_accuracy.append(self.evaluate(dev_instances, method=inference))\n",
    "         \n",
    "        for feature, tags in self.feature_weights.items():\n",
    "            for tag in tags:\n",
    "                total = self.weight_totals[feature][tag]\n",
    "                total += (iterations - self.timestamps[feature][tag]) * self.feature_weights[feature][tag]\n",
    "                averaged = round(total / float(iterations), 3)\n",
    "                self.feature_weights[feature][tag] = averaged\n",
    "\n",
    "\n",
    "    def get_features(self, word, previous_tag2, previous_tag, words, i):\n",
    "\n",
    "        prefix = word[:3]\n",
    "        suffix = word[-3:]\n",
    "        adverb_suffix = word[-5:]\n",
    "\n",
    "        features = {\n",
    "                    'PREFIX={}'.format(prefix),\n",
    "                    'SUFFIX={}'.format(suffix),\n",
    "                    'ADVERB_SUFFIX={}'.format(adverb_suffix),\n",
    "                    'LEN<=3={}'.format(len(word)<=3),\n",
    "                    'LENGTH={}'.format(len(word)),\n",
    "                    'FIRST_LETTER={}'.format(word[0]),\n",
    "                    'WORD={}'.format(word),\n",
    "                    'NORM_WORD={}'.format(words[i]),\n",
    "                    'PREV_WORD={}'.format(words[i-1]),\n",
    "                    'PREV_WORD_PREFIX={}'.format(words[i-1][:3]),\n",
    "                    'PREV_WORD_SUFFIX={}'.format(words[i-1][-3:]),\n",
    "                    'PREV_WORD+WORD={}+{}'.format(words[i-1], words[i]),\n",
    "                    'NEXT_WORD={}'.format(words[i+1]),\n",
    "                    'NEXT_WORD_PREFIX={}'.format(words[i+1][:3]),\n",
    "                    'NEXT_WORD_SUFFIX={}'.format(words[i+1][-3:]),\n",
    "                    'WORD+NEXT_WORD={}'.format(word, words[i+1]),\n",
    "                    'NEXT_2WORDS={}+{}'.format(words[i+1], words[i+2]),\n",
    "                    'PREV_TAG={}'.format(previous_tag),                 \n",
    "                    'PREV_TAG2={}'.format(previous_tag2),                 \n",
    "                    'PREV_TAG_BIGRAM={}+{}'.format(previous_tag2, previous_tag),  \n",
    "                    'PREV_TAG+WORD={}+{}'.format(previous_tag, word),            \n",
    "                    'PREV_TAG+PREFIX={}_{}'.format(previous_tag, prefix),       \n",
    "                    'PREV_TAG+SUFFIX={}_{}'.format(previous_tag, suffix),       \n",
    "                    'WORD+TAG_BIGRAM={}+{}+{}'.format(word, previous_tag2, previous_tag),\n",
    "                    'SUFFIX+2TAGS={}+{}+{}'.format(suffix, previous_tag2, previous_tag),\n",
    "                    'PREFIX+2TAGS={}+{}+{}'.format(prefix, previous_tag2, previous_tag),\n",
    "                    'LAST_LETTER{}'.format(word[-1]),\n",
    "                    'PREV_WORD_ADVERB_SUFFIX={}'.format(words[i-1][-5:]),\n",
    "                    'NEXT_WORD_ADVERB_SUFFIX={}'.format(words[i+1][-5:]),\n",
    "                    'BIAS'\n",
    "            }\n",
    "        \n",
    "        \n",
    "        return features\n",
    "    \n",
    "    \n",
    "    def get_global_features(self, words, predicted_tags, true_tags):\n",
    "\n",
    "        context = [self.START] + [self.normalize(word) for word in words] + [self.END, self.END]\n",
    "\n",
    "        global_gold_features = defaultdict(lambda: Counter())\n",
    "        global_prediction_features = defaultdict(lambda: Counter())\n",
    "\n",
    "        prev_predicted_tag = self.START\n",
    "        prev_predicted_tag2 = self.START\n",
    "        \n",
    "        for j, (word, predicted_tag, true_tag) in enumerate(zip(words, predicted_tags, true_tags)):\n",
    "            prediction_features = self.get_features(word, prev_predicted_tag2, prev_predicted_tag, context, j+1)\n",
    "\n",
    "            global_prediction_features[predicted_tag].update(prediction_features)\n",
    "            global_gold_features[true_tag].update(prediction_features)\n",
    "\n",
    "            prev_predicted_tag2 = prev_predicted_tag\n",
    "            prev_predicted_tag = predicted_tag\n",
    "\n",
    "        return global_gold_features, global_prediction_features\n",
    "            \n",
    "    \n",
    "    def get_scores(self, features):\n",
    "\n",
    "        scores = defaultdict(float)\n",
    "        for feature in features:\n",
    "            if feature not in self.feature_weights:\n",
    "                continue\n",
    "            weights = self.feature_weights[feature]\n",
    "            for tag, weight in weights.items():\n",
    "                scores[tag] += weight\n",
    "\n",
    "        if not scores:\n",
    "            scores[list(self.tags)[0]] = 1\n",
    "        \n",
    "        return scores\n",
    "\n",
    "\n",
    "    def predict(self, words, method='greedy'):\n",
    " \n",
    "        if method == 'greedy':\n",
    "            return self.predict_greedy(words)\n",
    "        elif method == 'viterbi':\n",
    "            return self.predict_viterbi(words)\n",
    "\n",
    "\n",
    "    def predict_viterbi(self, words):\n",
    "\n",
    "        context = [self.START] + [self.normalize(word) for word in words] + [self.END, self.END]\n",
    "\n",
    "        N = len(words)\n",
    "        M = len(self.tags)\n",
    "        tags = sorted(self.tags)\n",
    "\n",
    "        Q = np.ones((M, N)) * float('-Inf')\n",
    "        backpointers = np.ones((M, N), dtype=np.int16) * -1 \n",
    "\n",
    "        features = self.get_features(words[0], self.START, self.START, context, 1)\n",
    "        scores = self.get_scores(features)\n",
    "        allowed_initial_tags = self.tag_dict[context[1]]\n",
    "\n",
    "        for j in range(M):\n",
    "            if not allowed_initial_tags or tags[j] in allowed_initial_tags:\n",
    "                Q[j,0] = scores[tags[j]]\n",
    "\n",
    "        for i in range(1, N):\n",
    "            allowed_tags = self.tag_dict[context[i+1]]\n",
    "\n",
    "            for j in range(M):\n",
    "                best_score = 0.0\n",
    "                prev_tag = tags[j]\n",
    "\n",
    "                allowed_previous_tags = self.tag_dict[context[i]]\n",
    "                if allowed_previous_tags and prev_tag not in allowed_previous_tags:\n",
    "                    continue\n",
    "\n",
    "                best_before = Q[j,i-1] \n",
    "\n",
    "                for k in range(M):\n",
    "                    if i == 1:\n",
    "                        prev2_tag = self.START\n",
    "                    else:\n",
    "                        prev2_tag = tags[k]\n",
    "                        allowed_previous2_tags = self.tag_dict[context[i-1]]\n",
    "                        if allowed_previous2_tags and prev2_tag not in allowed_previous2_tags:\n",
    "                            continue\n",
    "\n",
    "                    features = self.get_features(words[i], prev2_tag, prev_tag, context, i+1)\n",
    "                    scores = self.get_scores(features)\n",
    "\n",
    "                    for t in range(M):\n",
    "                        tag = tags[t]\n",
    "                        if not allowed_tags or tag in allowed_tags:\n",
    "                            tag_score = best_before + scores[tag]\n",
    "\n",
    "                            if tag_score > best_score:\n",
    "                                Q[t,i] = tag_score\n",
    "                                best_score = tag_score\n",
    "                                backpointers[t,i] = j\n",
    "\n",
    "        best_id = Q[:,-1].argmax()\n",
    "\n",
    "        predtags = [tags[best_id]]\n",
    "\n",
    "        for i in range(N-1,0,-1):\n",
    "            idx = backpointers[best_id, i]\n",
    "            predtags.append(tags[idx])\n",
    "            best_id = idx\n",
    "\n",
    "        return predtags[::-1]        \n",
    "\n",
    "        \n",
    "    def save(self, file_name):\n",
    "\n",
    "        print(\"saving model...\", end=' ', file=sys.stderr)\n",
    "        with open(file_name, \"wb\") as model:\n",
    "            save_feature_weights = defaultdict(lambda: defaultdict(float))\n",
    "            save_feature_weights.update(self.feature_weights)\n",
    "            save_tag_dict = defaultdict(set)\n",
    "            save_tag_dict.update(self.tag_dict)\n",
    "\n",
    "            save_feature_weights.default_factory = None\n",
    "            save_tag_dict.default_factory = None\n",
    "            pickle.dump((save_feature_weights, save_tag_dict,self.tags,self.train_accuracy,self.dev_accuracy),\n",
    "                     model, -1)\n",
    "        print(\"done\", file=sys.stderr)\n",
    "\n",
    "\n",
    "    def load(self, file_name):\n",
    " \n",
    "        print(\"loading model...\", end=' ', file=sys.stderr)\n",
    "        with open(file_name, 'rb') as model:\n",
    "            try:\n",
    "                parameters = pickle.load(model)\n",
    "            except IOError:\n",
    "                msg = (\"No such model file.\")\n",
    "                raise MissingCorpusError(msg)\n",
    "\n",
    "            feature_weights, tag_dict, tags= parameters\n",
    "            self.tags = tags\n",
    "\n",
    "            self.feature_weights = defaultdict(lambda: defaultdict(float))\n",
    "            self.tag_dict = defaultdict(set)\n",
    "            \n",
    "            self.feature_weights.update(feature_weights)\n",
    "            self.tag_dict.update(tag_dict)\n",
    "        print(\"done\", file=sys.stderr)\n",
    "        return None"
   ]
  },
  {
   "cell_type": "code",
   "execution_count": 51,
   "id": "589ea984",
   "metadata": {
    "colab": {
     "base_uri": "https://localhost:8080/"
    },
    "id": "589ea984",
    "outputId": "c32dd269-e8d7-4fcb-c884-57b148763add"
   },
   "outputs": [
    {
     "name": "stderr",
     "output_type": "stream",
     "text": [
      "loading model... done\n"
     ]
    }
   ],
   "source": [
    "sp3 = StructuredPerceptron()\n",
    "sp3.load('model_viterbi.pickle')"
   ]
  },
  {
   "cell_type": "code",
   "execution_count": 52,
   "id": "07146d82",
   "metadata": {
    "colab": {
     "base_uri": "https://localhost:8080/"
    },
    "id": "07146d82",
    "outputId": "632b2103-91c5-435b-aed3-4e52cbccd618"
   },
   "outputs": [
    {
     "name": "stdout",
     "output_type": "stream",
     "text": [
      "Test accuracy:0.9792884478072648\n"
     ]
    }
   ],
   "source": [
    "test_instances = [(words,tags) for words,tags in zip(test_file.words,test_file.tags)]\n",
    "print(f\"Test accuracy:{sp3.evaluate(test_instances,'viterbi')}\")\n",
    "viterbi_acc = sp3.evaluate(test_instances,'viterbi')"
   ]
  },
  {
   "cell_type": "code",
   "execution_count": null,
   "id": "b20698cb",
   "metadata": {
    "id": "b20698cb",
    "outputId": "cbcba034-59d7-4724-9762-fb607aa067fc"
   },
   "outputs": [
    {
     "name": "stdout",
     "output_type": "stream",
     "text": [
      "['DET', 'NOUN', 'AUX', 'AUX', 'DET', 'ADJ', 'ADP', 'VERB']\n"
     ]
    }
   ],
   "source": [
    "print(sp3.predict('Il ministro è stato il primo a parlare'.split(),method='viterbi'))"
   ]
  },
  {
   "cell_type": "code",
   "execution_count": null,
   "id": "350ec840",
   "metadata": {
    "id": "350ec840",
    "outputId": "a9ab3476-0e59-4387-a989-04fed1c2a8d3"
   },
   "outputs": [
    {
     "name": "stdout",
     "output_type": "stream",
     "text": [
      "['PRON', 'AUX', 'AUX', 'VERB']\n"
     ]
    }
   ],
   "source": [
    "print(sp2.predict(\"L'atto è stato ratificato\".split(),method='greedy'))"
   ]
  },
  {
   "cell_type": "code",
   "execution_count": null,
   "id": "b866bb77",
   "metadata": {
    "id": "b866bb77",
    "outputId": "08f51759-17ab-4fde-83f3-d02ff99a260f"
   },
   "outputs": [
    {
     "name": "stdout",
     "output_type": "stream",
     "text": [
      "['SYM', 'AUX', 'AUX', 'VERB']\n"
     ]
    }
   ],
   "source": [
    "print(sp3.predict(\"L'atto è stato ratificato\".split(), method='viterbi'))"
   ]
  },
  {
   "cell_type": "raw",
   "id": "2956ce5e",
   "metadata": {
    "id": "2956ce5e"
   },
   "source": [
    "Both the Greedy and the Viterbi method yield very accurate result, however greedy performed slightly better on test data. "
   ]
  },
  {
   "cell_type": "markdown",
   "id": "c1944d1e",
   "metadata": {
    "id": "c1944d1e"
   },
   "source": [
    "# 5.2 Neural Net Architecture "
   ]
  },
  {
   "cell_type": "code",
   "execution_count": 1,
   "id": "c3b3f7dc",
   "metadata": {
    "id": "c3b3f7dc"
   },
   "outputs": [],
   "source": [
    "import pandas as pd\n",
    "import numpy as np"
   ]
  },
  {
   "cell_type": "code",
   "execution_count": 2,
   "id": "02d14e66",
   "metadata": {
    "id": "02d14e66"
   },
   "outputs": [],
   "source": [
    "data_original = pd.read_csv(\"cleaned_nonans.csv\")\n",
    "\n",
    "data = data_original[['words','pos_tags']]"
   ]
  },
  {
   "cell_type": "code",
   "execution_count": 3,
   "id": "ade00d83",
   "metadata": {
    "id": "ade00d83"
   },
   "outputs": [],
   "source": [
    "data = pd.read_csv(\"cleaned_nonans.csv\")\n"
   ]
  },
  {
   "cell_type": "code",
   "execution_count": 4,
   "id": "a763face",
   "metadata": {
    "id": "a763face"
   },
   "outputs": [],
   "source": [
    "words = [] \n",
    "for row in range(data.shape[0]):\n",
    "    trans = data.words[row].split()\n",
    "    sentence = []\n",
    "    for word in trans:\n",
    "        sentence.append(word)\n",
    "    words.append(sentence)"
   ]
  },
  {
   "cell_type": "code",
   "execution_count": 5,
   "id": "c6cc297f",
   "metadata": {
    "id": "c6cc297f"
   },
   "outputs": [],
   "source": [
    "pos_tags = [] \n",
    "for row in range(data.shape[0]):\n",
    "    trans = data.pos_tags[row].split()\n",
    "    sentence = []\n",
    "    for tag in trans:\n",
    "        sentence.append(tag)\n",
    "    pos_tags.append(sentence)"
   ]
  },
  {
   "cell_type": "code",
   "execution_count": 6,
   "id": "ce4ea2b4",
   "metadata": {
    "id": "ce4ea2b4"
   },
   "outputs": [],
   "source": [
    "clean_words = []\n",
    "clean_tags = []\n",
    "\n",
    "for i in range(len(words)):\n",
    "    sentence_w = []\n",
    "    sentence_t = []\n",
    "    for j in range(len(words[i])):\n",
    "        if pos_tags[i][j] != \"_\":\n",
    "            sentence_w.append(words[i][j])\n",
    "            sentence_t.append(pos_tags[i][j])\n",
    "    clean_words.append(sentence_w)\n",
    "    clean_tags.append(sentence_t)\n",
    "    \n",
    "    "
   ]
  },
  {
   "cell_type": "code",
   "execution_count": 7,
   "id": "3efad37d",
   "metadata": {
    "colab": {
     "base_uri": "https://localhost:8080/"
    },
    "id": "3efad37d",
    "outputId": "51d37456-39fe-48de-f118-5335a5c36c4d"
   },
   "outputs": [
    {
     "data": {
      "text/plain": [
       "(True, 13170)"
      ]
     },
     "execution_count": 7,
     "metadata": {},
     "output_type": "execute_result"
    }
   ],
   "source": [
    "len(clean_words)==len(clean_tags), len(clean_words)"
   ]
  },
  {
   "cell_type": "code",
   "execution_count": 8,
   "id": "5c2f92e0",
   "metadata": {
    "id": "5c2f92e0"
   },
   "outputs": [],
   "source": [
    "np.random.seed(2)\n",
    "a = np.arange(len(clean_words))\n",
    "np.random.shuffle(a)\n",
    "train_index = a[:len(clean_words)*3//5]\n",
    "dev_index = a[len(clean_words)*3//5:len(clean_words)*4//5]\n",
    "test_index = a[len(clean_words)*4//5:]"
   ]
  },
  {
   "cell_type": "code",
   "execution_count": 9,
   "id": "9006aea9",
   "metadata": {
    "id": "9006aea9"
   },
   "outputs": [],
   "source": [
    "train_words = []\n",
    "train_tags = []\n",
    "for i in train_index:\n",
    "    train_words.append(clean_words[i])\n",
    "    train_tags.append(clean_tags[i])\n",
    "dev_words = []\n",
    "dev_tags = []\n",
    "for i in dev_index:\n",
    "    dev_words.append(clean_words[i])\n",
    "    dev_tags.append(clean_tags[i])\n",
    "test_words = []\n",
    "test_tags = []\n",
    "for i in test_index:\n",
    "    test_words.append(clean_words[i])\n",
    "    test_tags.append(clean_tags[i])"
   ]
  },
  {
   "cell_type": "code",
   "execution_count": 10,
   "id": "1630d952",
   "metadata": {
    "id": "1630d952"
   },
   "outputs": [],
   "source": [
    "train_file = pd.DataFrame({'words':train_words,'tags':train_tags})\n",
    "dev_file = pd.DataFrame({'words':dev_words,'tags':dev_tags})\n",
    "test_file = pd.DataFrame({'words':test_words,'tags':test_tags})"
   ]
  },
  {
   "cell_type": "code",
   "execution_count": 11,
   "id": "1928babb",
   "metadata": {
    "id": "1928babb"
   },
   "outputs": [],
   "source": [
    "instances = [(word,tags) for (word,tags) in zip(dev_file.words,dev_file.tags)]"
   ]
  },
  {
   "cell_type": "markdown",
   "id": "5e90342c",
   "metadata": {
    "id": "5e90342c"
   },
   "source": [
    "# Preparation "
   ]
  },
  {
   "cell_type": "code",
   "execution_count": 12,
   "id": "5773aff2",
   "metadata": {
    "id": "5773aff2"
   },
   "outputs": [],
   "source": [
    "# collect known word tokens and tags\n",
    "train_instances = [(word,tags) for (word,tags) in zip(train_file.words,train_file.tags)]\n",
    "wordset, tagset = set(), set()\n",
    "for (words, tags) in train_instances:\n",
    "    tagset.update(set(tags))\n",
    "    wordset.update(set(words))\n",
    "\n",
    "# map words and tags into ints\n",
    "PAD = '-PAD-'\n",
    "UNK = '-UNK-'\n",
    "word2int = {word: i + 2 for i, word in enumerate(sorted(wordset))}\n",
    "word2int[PAD] = 0  # special token for padding\n",
    "word2int[UNK] = 1  # special token for unknown words\n",
    " \n",
    "tag2int = {tag: i + 1 for i, tag in enumerate(sorted(tagset))}\n",
    "tag2int[PAD] = 0\n",
    "# to translate it back\n",
    "int2tag = {i:tag for tag, i in tag2int.items()}\n",
    "\n",
    "\n",
    "def convert2ints(instances):\n",
    "    result = []\n",
    "    for (words, tags) in instances:\n",
    "        word_ints = [word2int.get(word, 1) for word in words]\n",
    "        tag_ints = [tag2int[tag] for tag in tags]\n",
    "        result.append((word_ints, tag_ints))\n",
    "    return result        "
   ]
  },
  {
   "cell_type": "code",
   "execution_count": 13,
   "id": "049b5899",
   "metadata": {
    "id": "049b5899"
   },
   "outputs": [],
   "source": [
    "test_instances = [(words, tags) for (words, tags) in zip(test_file.words,test_file.tags)]\n",
    "\n",
    "train_instances_int = convert2ints(train_instances)\n",
    "test_instances_int = convert2ints(test_instances)\n",
    "\n",
    "train_sentences, train_tags = zip(*train_instances_int) \n",
    "test_sentences, test_tags = zip(*test_instances_int) "
   ]
  },
  {
   "cell_type": "code",
   "execution_count": 14,
   "id": "e7d15c37",
   "metadata": {
    "colab": {
     "base_uri": "https://localhost:8080/"
    },
    "id": "e7d15c37",
    "outputId": "cb945b68-dd48-4ec0-e96c-d2c9fbc403ee"
   },
   "outputs": [
    {
     "name": "stdout",
     "output_type": "stream",
     "text": [
      "8085\n"
     ]
    }
   ],
   "source": [
    "MAX_LENGTH = len(max(train_sentences, key=len)) + len(max(train_sentences, key=len))//15\n",
    "print(MAX_LENGTH)"
   ]
  },
  {
   "cell_type": "code",
   "execution_count": 15,
   "id": "9cRIw6SEkRhW",
   "metadata": {
    "id": "9cRIw6SEkRhW"
   },
   "outputs": [],
   "source": [
    "from keras.preprocessing.sequence import pad_sequences\n",
    " \n",
    "# add special padding at the end of every instance, up to MAX_LENGTH\n",
    "train_sentences = pad_sequences(train_sentences, maxlen=MAX_LENGTH, padding='post')\n",
    "test_sentences = pad_sequences(test_sentences, maxlen=MAX_LENGTH, padding='post')\n",
    "train_tags = pad_sequences(train_tags, maxlen=MAX_LENGTH, padding='post')\n",
    "test_tags = pad_sequences(test_tags, maxlen=MAX_LENGTH, padding='post')"
   ]
  },
  {
   "cell_type": "code",
   "execution_count": 16,
   "id": "Va6hFMSckSrq",
   "metadata": {
    "id": "Va6hFMSckSrq"
   },
   "outputs": [],
   "source": [
    "from tensorflow.keras.utils import to_categorical\n",
    "\n",
    "train_tags_1hot = to_categorical(train_tags, len(tag2int))\n",
    "test_tags_1hot = to_categorical(test_tags, len(tag2int))"
   ]
  },
  {
   "cell_type": "markdown",
   "id": "e97b9404",
   "metadata": {
    "id": "e97b9404"
   },
   "source": [
    "# 5.2.1 CNN"
   ]
  },
  {
   "cell_type": "code",
   "execution_count": 17,
   "id": "78fe8ce2",
   "metadata": {
    "colab": {
     "base_uri": "https://localhost:8080/"
    },
    "id": "78fe8ce2",
    "outputId": "42a00b51-85fd-441c-9dba-5f507a1e1a37"
   },
   "outputs": [
    {
     "name": "stdout",
     "output_type": "stream",
     "text": [
      "Model: \"model\"\n",
      "_________________________________________________________________\n",
      " Layer (type)                Output Shape              Param #   \n",
      "=================================================================\n",
      " word_IDs (InputLayer)       [(None, 8085)]            0         \n",
      "                                                                 \n",
      " embeddings (Embedding)      (None, 8085, 128)         8206208   \n",
      "                                                                 \n",
      " LSTM (LSTM)                 (None, 8085, 256)         394240    \n",
      "                                                                 \n",
      " dropout (Dropout)           (None, 8085, 256)         0         \n",
      "                                                                 \n",
      " output (Dense)              (None, 8085, 18)          4626      \n",
      "                                                                 \n",
      " softmax (Activation)        (None, 8085, 18)          0         \n",
      "                                                                 \n",
      "=================================================================\n",
      "Total params: 8,605,074\n",
      "Trainable params: 8,605,074\n",
      "Non-trainable params: 0\n",
      "_________________________________________________________________\n"
     ]
    }
   ],
   "source": [
    "from keras.models import Model\n",
    "from keras.layers import Input, Embedding\n",
    "from keras.layers import Bidirectional, LSTM\n",
    "from keras.layers import Dropout, Dense, Activation\n",
    "import numpy as np\n",
    "\n",
    "# Set a random seed for reproducibility\n",
    "np.random.seed(42)\n",
    "\n",
    "inputs = Input((MAX_LENGTH, ), \n",
    "               name='word_IDs')\n",
    "embeddings = Embedding(input_dim=len(word2int), \n",
    "                       output_dim=128, \n",
    "                       mask_zero=True, \n",
    "                       name='embeddings')(inputs)\n",
    "lstm = LSTM(units=256,\n",
    "              return_sequences=True,\n",
    "              name=\"LSTM\")(embeddings)\n",
    "dropout = Dropout(0.3, name='dropout')(lstm)\n",
    "lstm_out = Dense(len(tag2int), name='output')(dropout)\n",
    "output = Activation('softmax', name='softmax')(lstm_out)\n",
    "\n",
    "model = Model(inputs=[inputs], outputs=[output])\n",
    "model.summary()"
   ]
  },
  {
   "cell_type": "code",
   "execution_count": 18,
   "id": "dc5a5fb8",
   "metadata": {
    "colab": {
     "base_uri": "https://localhost:8080/"
    },
    "id": "dc5a5fb8",
    "outputId": "5f0dc7bd-766a-48f8-81ee-2e1c56998c76"
   },
   "outputs": [
    {
     "name": "stdout",
     "output_type": "stream",
     "text": [
      "Epoch 1/5\n",
      "396/396 [==============================] - 52s 112ms/step - loss: 0.0391 - accuracy: 0.8011 - val_loss: 0.0060 - val_accuracy: 0.9661\n",
      "Epoch 2/5\n",
      "396/396 [==============================] - 42s 105ms/step - loss: 0.0051 - accuracy: 0.9706 - val_loss: 0.0046 - val_accuracy: 0.9719\n",
      "Epoch 3/5\n",
      "396/396 [==============================] - 41s 104ms/step - loss: 0.0039 - accuracy: 0.9761 - val_loss: 0.0043 - val_accuracy: 0.9736\n",
      "Epoch 4/5\n",
      "396/396 [==============================] - 41s 104ms/step - loss: 0.0035 - accuracy: 0.9783 - val_loss: 0.0042 - val_accuracy: 0.9746\n",
      "Epoch 5/5\n",
      "396/396 [==============================] - 42s 106ms/step - loss: 0.0032 - accuracy: 0.9797 - val_loss: 0.0041 - val_accuracy: 0.9750\n",
      "165/165 [==============================] - 7s 40ms/step - loss: 0.0040 - accuracy: 0.9748\n",
      "Test loss: 0.004044808447360992\n",
      "Test accuracy: 0.9747949242591858\n"
     ]
    }
   ],
   "source": [
    "batch_size = 16\n",
    "epochs = 5\n",
    "\n",
    "# compile the model we have defined above\n",
    "model.compile(loss='categorical_crossentropy',\n",
    "              optimizer='adam',\n",
    "              metrics=['accuracy']\n",
    "             )\n",
    "\n",
    "# run training and capture ouput log\n",
    "history = model.fit(train_sentences, train_tags_1hot,\n",
    "                    batch_size=batch_size,\n",
    "                    epochs=epochs,\n",
    "                    verbose=1,\n",
    "                    validation_split=0.2)\n",
    "\n",
    "loss, accuracy = model.evaluate(test_sentences, test_tags_1hot,\n",
    "                       batch_size=batch_size, verbose=1)\n",
    "print('Test loss:', loss)\n",
    "print('Test accuracy:', accuracy)"
   ]
  },
  {
   "cell_type": "code",
   "execution_count": 19,
   "id": "f5830507",
   "metadata": {
    "colab": {
     "base_uri": "https://localhost:8080/",
     "height": 513
    },
    "id": "f5830507",
    "outputId": "5388705b-276b-418b-9bfd-3f6e1bc84fbf"
   },
   "outputs": [
    {
     "data": {
      "image/png": "[encoded data removed]",
      "text/plain": [
       "<Figure size 432x288 with 1 Axes>"
      ]
     },
     "metadata": {
      "needs_background": "light"
     },
     "output_type": "display_data"
    },
    {
     "data": {
      "image/png": "[encoded data removed]",
      "text/plain": [
       "<Figure size 432x288 with 1 Axes>"
      ]
     },
     "metadata": {
      "needs_background": "light"
     },
     "output_type": "display_data"
    }
   ],
   "source": [
    "%matplotlib inline\n",
    "import pandas as pd\n",
    "import seaborn\n",
    "\n",
    "df = pd.DataFrame(history.history)\n",
    "df[['val_accuracy', 'accuracy']].plot.line();\n",
    "df[['val_loss', 'loss']].plot.line();"
   ]
  },
  {
   "cell_type": "code",
   "execution_count": 20,
   "id": "83e9a0c6",
   "metadata": {
    "colab": {
     "base_uri": "https://localhost:8080/"
    },
    "id": "83e9a0c6",
    "outputId": "36e33e87-bce3-4aac-efae-321c672bcea8"
   },
   "outputs": [
    {
     "name": "stdout",
     "output_type": "stream",
     "text": [
      "165/165 [==============================] - 7s 44ms/step - loss: 0.0040 - accuracy: 0.9748\n",
      "Test loss: 0.004044808447360992\n",
      "Test accuracy: 0.9747949242591858\n"
     ]
    }
   ],
   "source": [
    "loss, accuracy = model.evaluate(test_sentences, test_tags_1hot,\n",
    "                       batch_size=batch_size, verbose=1)\n",
    "print('Test loss:', loss)\n",
    "print('Test accuracy:', accuracy)\n",
    "\n",
    "CNN_loss = loss \n",
    "CNN_accuracy = accuracy "
   ]
  },
  {
   "cell_type": "markdown",
   "id": "2b65da5a",
   "metadata": {
    "id": "2b65da5a"
   },
   "source": [
    "# 5.2.2 Bi-LSTM"
   ]
  },
  {
   "cell_type": "code",
   "execution_count": 21,
   "id": "76083181",
   "metadata": {
    "colab": {
     "base_uri": "https://localhost:8080/"
    },
    "id": "76083181",
    "outputId": "29854ede-2112-4280-845c-3ebcd618752e"
   },
   "outputs": [
    {
     "name": "stdout",
     "output_type": "stream",
     "text": [
      "Model: \"model_1\"\n",
      "_________________________________________________________________\n",
      " Layer (type)                Output Shape              Param #   \n",
      "=================================================================\n",
      " word_IDs (InputLayer)       [(None, 8085)]            0         \n",
      "                                                                 \n",
      " embeddings (Embedding)      (None, 8085, 128)         8206208   \n",
      "                                                                 \n",
      " Bi-LSTM (Bidirectional)     (None, 8085, 512)         788480    \n",
      "                                                                 \n",
      " dropout (Dropout)           (None, 8085, 512)         0         \n",
      "                                                                 \n",
      " output (Dense)              (None, 8085, 18)          9234      \n",
      "                                                                 \n",
      " softmax (Activation)        (None, 8085, 18)          0         \n",
      "                                                                 \n",
      "=================================================================\n",
      "Total params: 9,003,922\n",
      "Trainable params: 9,003,922\n",
      "Non-trainable params: 0\n",
      "_________________________________________________________________\n"
     ]
    }
   ],
   "source": [
    "from keras.layers import Bidirectional\n",
    "\n",
    "# Set a random seed for reproducibility\n",
    "np.random.seed(42)\n",
    "\n",
    "inputs = Input((MAX_LENGTH, ), \n",
    "               name='word_IDs')\n",
    "embeddings = Embedding(input_dim=len(word2int), \n",
    "                       output_dim=128, \n",
    "                       mask_zero=True, \n",
    "                       name='embeddings')(inputs)\n",
    "#wrap the LSTM in a Bidirectional wrapper\n",
    "bilstm = Bidirectional(LSTM(units=256, \n",
    "                            return_sequences=True), \n",
    "                       name=\"Bi-LSTM\")(embeddings)\n",
    "dropout = Dropout(0.3, name='dropout')(bilstm)\n",
    "bilstm_out = Dense(len(tag2int), name='output')(dropout)\n",
    "output = Activation('softmax', name='softmax')(bilstm_out)\n",
    "\n",
    "model_bilstm = Model(inputs=[inputs], outputs=[output])\n",
    "model_bilstm.summary()"
   ]
  },
  {
   "cell_type": "code",
   "execution_count": 22,
   "id": "f8025a53",
   "metadata": {
    "colab": {
     "base_uri": "https://localhost:8080/",
     "height": 690
    },
    "id": "f8025a53",
    "outputId": "76e0a6a9-1e98-4b07-fa9e-992138c7e183"
   },
   "outputs": [
    {
     "name": "stdout",
     "output_type": "stream",
     "text": [
      "Epoch 1/5\n",
      "396/396 [==============================] - 97s 229ms/step - loss: 0.0306 - accuracy: 0.8455 - val_loss: 0.0034 - val_accuracy: 0.9820\n",
      "Epoch 2/5\n",
      "396/396 [==============================] - 84s 212ms/step - loss: 0.0026 - accuracy: 0.9864 - val_loss: 0.0025 - val_accuracy: 0.9861\n",
      "Epoch 3/5\n",
      "396/396 [==============================] - 84s 211ms/step - loss: 0.0016 - accuracy: 0.9910 - val_loss: 0.0022 - val_accuracy: 0.9878\n",
      "Epoch 4/5\n",
      "396/396 [==============================] - 83s 211ms/step - loss: 0.0013 - accuracy: 0.9926 - val_loss: 0.0021 - val_accuracy: 0.9885\n",
      "Epoch 5/5\n",
      "396/396 [==============================] - 82s 207ms/step - loss: 0.0011 - accuracy: 0.9937 - val_loss: 0.0021 - val_accuracy: 0.9886\n"
     ]
    },
    {
     "data": {
      "image/png": "[encoded data removed]",
      "text/plain": [
       "<Figure size 432x288 with 1 Axes>"
      ]
     },
     "metadata": {
      "needs_background": "light"
     },
     "output_type": "display_data"
    },
    {
     "data": {
      "image/png": "[encoded data removed]",
      "text/plain": [
       "<Figure size 432x288 with 1 Axes>"
      ]
     },
     "metadata": {
      "needs_background": "light"
     },
     "output_type": "display_data"
    }
   ],
   "source": [
    "batch_size = 16\n",
    "epochs = 5\n",
    "\n",
    "model_bilstm.compile(loss='categorical_crossentropy',\n",
    "              optimizer='adam',\n",
    "              metrics=['accuracy']\n",
    "             )\n",
    "\n",
    "history_bilstm = model_bilstm.fit(train_sentences, train_tags_1hot,\n",
    "                    batch_size=batch_size,\n",
    "                    epochs=epochs,\n",
    "                    verbose=1,\n",
    "                    validation_split=0.2)\n",
    "\n",
    "df = pd.DataFrame(history_bilstm.history)\n",
    "df[['val_accuracy', 'accuracy']].plot.line();\n",
    "df[['val_loss', 'loss']].plot.line();"
   ]
  },
  {
   "cell_type": "code",
   "execution_count": 23,
   "id": "2b7be041",
   "metadata": {
    "colab": {
     "base_uri": "https://localhost:8080/"
    },
    "id": "2b7be041",
    "outputId": "e95ce17f-fe64-49ef-c417-2f3ef83a6ff5"
   },
   "outputs": [
    {
     "name": "stdout",
     "output_type": "stream",
     "text": [
      "165/165 [==============================] - 13s 80ms/step - loss: 0.0021 - accuracy: 0.9885\n",
      "Test loss: 0.0020579358097165823\n",
      "Test accuracy: 0.9884881377220154\n"
     ]
    }
   ],
   "source": [
    "loss, accuracy = model_bilstm.evaluate(test_sentences, test_tags_1hot,\n",
    "                       batch_size=batch_size, verbose=1)\n",
    "print('Test loss:', loss)\n",
    "print('Test accuracy:', accuracy)\n",
    "\n",
    "BiLSTM_loss = loss \n",
    "BiLSRM_accuracy = accuracy "
   ]
  },
  {
   "cell_type": "markdown",
   "id": "b42a47dd",
   "metadata": {
    "id": "b42a47dd"
   },
   "source": [
    "# 5.2.3 Sequential API Model\n",
    "Although changes should not be excessive but mostly due to stiochasticty we also ran a Bi-LSTM model utilising the sequential API coding method. We did observe a slightly higher performance which, as mentioned, is likely due to the great stochasticity of such models."
   ]
  },
  {
   "cell_type": "code",
   "execution_count": 24,
   "id": "c5760577",
   "metadata": {
    "colab": {
     "base_uri": "https://localhost:8080/"
    },
    "id": "c5760577",
    "outputId": "244354b1-6f86-4b81-8c5c-f745218e4f9f"
   },
   "outputs": [
    {
     "name": "stdout",
     "output_type": "stream",
     "text": [
      "Model: \"sequential\"\n",
      "_________________________________________________________________\n",
      " Layer (type)                Output Shape              Param #   \n",
      "=================================================================\n",
      " embeddings (Embedding)      (None, 8085, 128)         8206208   \n",
      "                                                                 \n",
      " bi-LSTM (Bidirectional)     (None, 8085, 512)         788480    \n",
      "                                                                 \n",
      " dropout (Dropout)           (None, 8085, 512)         0         \n",
      "                                                                 \n",
      " output (Dense)              (None, 8085, 18)          9234      \n",
      "                                                                 \n",
      " softmax (Activation)        (None, 8085, 18)          0         \n",
      "                                                                 \n",
      "=================================================================\n",
      "Total params: 9,003,922\n",
      "Trainable params: 9,003,922\n",
      "Non-trainable params: 0\n",
      "_________________________________________________________________\n"
     ]
    }
   ],
   "source": [
    "from keras.models import Sequential\n",
    "from keras.layers import InputLayer\n",
    "np.random.seed(42)\n",
    "\n",
    "model_seq = Sequential()\n",
    "model_seq.add(InputLayer(input_shape=(MAX_LENGTH, ), name=\"word_IDs\"))\n",
    "model_seq.add(Embedding(len(word2int), 128, mask_zero=True, name='embeddings'))\n",
    "model_seq.add(Bidirectional(LSTM(256, return_sequences=True), name='bi-LSTM'))\n",
    "model_seq.add(Dropout(0.3, name='dropout'))\n",
    "model_seq.add(Dense(len(tag2int), name='output'))\n",
    "model_seq.add(Activation('softmax', name='softmax'))\n",
    "model_seq.summary()"
   ]
  },
  {
   "cell_type": "code",
   "execution_count": 25,
   "id": "963f9733",
   "metadata": {
    "colab": {
     "base_uri": "https://localhost:8080/"
    },
    "id": "963f9733",
    "outputId": "9bc3efa9-3324-4b58-b83c-74f055c87246"
   },
   "outputs": [
    {
     "name": "stdout",
     "output_type": "stream",
     "text": [
      "Epoch 1/5\n",
      "198/198 [==============================] - 69s 313ms/step - loss: 0.0584 - accuracy: 0.7047 - val_loss: 0.0066 - val_accuracy: 0.9681\n",
      "Epoch 2/5\n",
      "198/198 [==============================] - 58s 294ms/step - loss: 0.0045 - accuracy: 0.9776 - val_loss: 0.0032 - val_accuracy: 0.9829\n",
      "Epoch 3/5\n",
      "198/198 [==============================] - 59s 296ms/step - loss: 0.0024 - accuracy: 0.9875 - val_loss: 0.0025 - val_accuracy: 0.9861\n",
      "Epoch 4/5\n",
      "198/198 [==============================] - 59s 298ms/step - loss: 0.0017 - accuracy: 0.9905 - val_loss: 0.0023 - val_accuracy: 0.9869\n",
      "Epoch 5/5\n",
      "198/198 [==============================] - 59s 296ms/step - loss: 0.0014 - accuracy: 0.9919 - val_loss: 0.0022 - val_accuracy: 0.9879\n",
      "83/83 [==============================] - 9s 111ms/step - loss: 0.0021 - accuracy: 0.9879\n",
      "Test loss: 0.0020988646429032087\n",
      "Test accuracy: 0.9878607988357544\n"
     ]
    }
   ],
   "source": [
    "batch_size = 32\n",
    "epochs = 5\n",
    "\n",
    "model_seq.compile(loss='categorical_crossentropy',\n",
    "              optimizer='adam',\n",
    "              metrics=['accuracy'])\n",
    "\n",
    "history = model_seq.fit(train_sentences, train_tags_1hot,\n",
    "                    batch_size=batch_size,\n",
    "                    epochs=epochs,\n",
    "                    verbose=1,\n",
    "                    validation_split=0.2)\n",
    "\n",
    "loss, accuracy = model_seq.evaluate(test_sentences, test_tags_1hot,\n",
    "                       batch_size=batch_size, verbose=1)\n",
    "print('Test loss:', loss)\n",
    "print('Test accuracy:', accuracy)"
   ]
  },
  {
   "cell_type": "code",
   "execution_count": 26,
   "id": "0f77697f",
   "metadata": {
    "id": "0f77697f"
   },
   "outputs": [],
   "source": [
    "api_basic_acc = accuracy \n",
    "api_basic_loss = loss"
   ]
  },
  {
   "cell_type": "code",
   "execution_count": 27,
   "id": "0aae90ef",
   "metadata": {
    "colab": {
     "base_uri": "https://localhost:8080/"
    },
    "id": "0aae90ef",
    "outputId": "2a1bb364-a3a9-4a0e-d660-a19a261f84b5"
   },
   "outputs": [
    {
     "name": "stdout",
     "output_type": "stream",
     "text": [
      "Epoch 1/5\n",
      "396/396 [==============================] - 94s 222ms/step - loss: 0.0013 - accuracy: 0.9924 - val_loss: 0.0022 - val_accuracy: 0.9880\n",
      "Epoch 2/5\n",
      "396/396 [==============================] - 83s 210ms/step - loss: 0.0011 - accuracy: 0.9935 - val_loss: 0.0023 - val_accuracy: 0.9874\n",
      "Epoch 3/5\n",
      "396/396 [==============================] - 84s 211ms/step - loss: 9.2178e-04 - accuracy: 0.9945 - val_loss: 0.0021 - val_accuracy: 0.9888\n",
      "Epoch 4/5\n",
      "396/396 [==============================] - 82s 208ms/step - loss: 7.7729e-04 - accuracy: 0.9954 - val_loss: 0.0022 - val_accuracy: 0.9887\n",
      "Epoch 5/5\n",
      "396/396 [==============================] - 82s 207ms/step - loss: 6.7418e-04 - accuracy: 0.9960 - val_loss: 0.0022 - val_accuracy: 0.9892\n",
      "165/165 [==============================] - 13s 79ms/step - loss: 0.0021 - accuracy: 0.9892\n",
      "Test loss: 0.0021192056592553854\n",
      "Test accuracy: 0.9892045855522156\n"
     ]
    }
   ],
   "source": [
    "batch_size = 16\n",
    "epochs = 5\n",
    "\n",
    "model_seq.compile(loss='categorical_crossentropy',\n",
    "              optimizer='adam',\n",
    "              metrics=['accuracy'])\n",
    "\n",
    "history = model_seq.fit(train_sentences, train_tags_1hot,\n",
    "                    batch_size=batch_size,\n",
    "                    epochs=epochs,\n",
    "                    verbose=1,\n",
    "                    validation_split=0.2)\n",
    "\n",
    "loss, accuracy = model_seq.evaluate(test_sentences, test_tags_1hot,\n",
    "                       batch_size=batch_size, verbose=1)\n",
    "print('Test loss:', loss)\n",
    "print('Test accuracy:', accuracy)\n",
    "\n",
    "api_16_loss = loss \n",
    "api_16_accuracy = accuracy"
   ]
  },
  {
   "cell_type": "code",
   "execution_count": 53,
   "id": "jUJVCmWSoWI6",
   "metadata": {
    "colab": {
     "base_uri": "https://localhost:8080/"
    },
    "id": "jUJVCmWSoWI6",
    "outputId": "293936f6-2ba0-4010-e24f-87d09e07d5bf"
   },
   "outputs": [
    {
     "name": "stdout",
     "output_type": "stream",
     "text": [
      "0.9747949242591858\n",
      "0.9884881377220154\n",
      "0.9878607988357544\n",
      "0.9892045855522156\n",
      "0.9902335171688404\n",
      "0.9792884478072648\n"
     ]
    }
   ],
   "source": [
    "print(CNN_accuracy)\n",
    "print(BiLSRM_accuracy)\n",
    "print(api_basic_acc)\n",
    "print(api_16_accuracy)\n",
    "print(greedy_acc)\n",
    "print(viterbi_acc)\n",
    "\n",
    "\n",
    "\n"
   ]
  },
  {
   "cell_type": "code",
   "execution_count": 56,
   "id": "NnEswrj5uoZa",
   "metadata": {
    "colab": {
     "base_uri": "https://localhost:8080/",
     "height": 81
    },
    "id": "NnEswrj5uoZa",
    "outputId": "a199f3d7-d8a3-41a7-e336-c2db4efe8164"
   },
   "outputs": [
    {
     "data": {
      "text/html": [
       "\n",
       "  <div id=\"df-d1e674dc-3c5d-4de1-a33b-29180cfc445d\">\n",
       "    <div class=\"colab-df-container\">\n",
       "      <div>\n",
       "<style scoped>\n",
       "    .dataframe tbody tr th:only-of-type {\n",
       "        vertical-align: middle;\n",
       "    }\n",
       "\n",
       "    .dataframe tbody tr th {\n",
       "        vertical-align: top;\n",
       "    }\n",
       "\n",
       "    .dataframe thead th {\n",
       "        text-align: right;\n",
       "    }\n",
       "</style>\n",
       "<table border=\"1\" class=\"dataframe\">\n",
       "  <thead>\n",
       "    <tr style=\"text-align: right;\">\n",
       "      <th></th>\n",
       "      <th>greedy</th>\n",
       "      <th>viterbi</th>\n",
       "      <th>CNN</th>\n",
       "      <th>BiLSRM</th>\n",
       "      <th>API_basic</th>\n",
       "      <th>API_batch=16</th>\n",
       "    </tr>\n",
       "  </thead>\n",
       "  <tbody>\n",
       "    <tr>\n",
       "      <th>0</th>\n",
       "      <td>0.990234</td>\n",
       "      <td>0.979288</td>\n",
       "      <td>0.974795</td>\n",
       "      <td>0.988488</td>\n",
       "      <td>0.987861</td>\n",
       "      <td>0.989205</td>\n",
       "    </tr>\n",
       "  </tbody>\n",
       "</table>\n",
       "</div>\n",
       "      <button class=\"colab-df-convert\" onclick=\"convertToInteractive('df-d1e674dc-3c5d-4de1-a33b-29180cfc445d')\"\n",
       "              title=\"Convert this dataframe to an interactive table.\"\n",
       "              style=\"display:none;\">\n",
       "        \n",
       "  <svg xmlns=\"http://www.w3.org/2000/svg\" height=\"24px\"viewBox=\"0 0 24 24\"\n",
       "       width=\"24px\">\n",
       "    <path d=\"M0 0h24v24H0V0z\" fill=\"none\"/>\n",
       "    <path d=\"M18.56 5.44l.94 2.06.94-2.06 2.06-.94-2.06-.94-.94-2.06-.94 2.06-2.06.94zm-11 1L8.5 8.5l.94-2.06 2.06-.94-2.06-.94L8.5 2.5l-.94 2.06-2.06.94zm10 10l.94 2.06.94-2.06 2.06-.94-2.06-.94-.94-2.06-.94 2.06-2.06.94z\"/><path d=\"M17.41 7.96l-1.37-1.37c-.4-.4-.92-.59-1.43-.59-.52 0-1.04.2-1.43.59L10.3 9.45l-7.72 7.72c-.78.78-.78 2.05 0 2.83L4 21.41c.39.39.9.59 1.41.59.51 0 1.02-.2 1.41-.59l7.78-7.78 2.81-2.81c.8-.78.8-2.07 0-2.86zM5.41 20L4 18.59l7.72-7.72 1.47 1.35L5.41 20z\"/>\n",
       "  </svg>\n",
       "      </button>\n",
       "      \n",
       "  <style>\n",
       "    .colab-df-container {\n",
       "      display:flex;\n",
       "      flex-wrap:wrap;\n",
       "      gap: 12px;\n",
       "    }\n",
       "\n",
       "    .colab-df-convert {\n",
       "      background-color: #E8F0FE;\n",
       "      border: none;\n",
       "      border-radius: 50%;\n",
       "      cursor: pointer;\n",
       "      display: none;\n",
       "      fill: #1967D2;\n",
       "      height: 32px;\n",
       "      padding: 0 0 0 0;\n",
       "      width: 32px;\n",
       "    }\n",
       "\n",
       "    .colab-df-convert:hover {\n",
       "      background-color: #E2EBFA;\n",
       "      box-shadow: 0px 1px 2px rgba(60, 64, 67, 0.3), 0px 1px 3px 1px rgba(60, 64, 67, 0.15);\n",
       "      fill: #174EA6;\n",
       "    }\n",
       "\n",
       "    [theme=dark] .colab-df-convert {\n",
       "      background-color: #3B4455;\n",
       "      fill: #D2E3FC;\n",
       "    }\n",
       "\n",
       "    [theme=dark] .colab-df-convert:hover {\n",
       "      background-color: #434B5C;\n",
       "      box-shadow: 0px 1px 3px 1px rgba(0, 0, 0, 0.15);\n",
       "      filter: drop-shadow(0px 1px 2px rgba(0, 0, 0, 0.3));\n",
       "      fill: #FFFFFF;\n",
       "    }\n",
       "  </style>\n",
       "\n",
       "      <script>\n",
       "        const buttonEl =\n",
       "          document.querySelector('#df-d1e674dc-3c5d-4de1-a33b-29180cfc445d button.colab-df-convert');\n",
       "        buttonEl.style.display =\n",
       "          google.colab.kernel.accessAllowed ? 'block' : 'none';\n",
       "\n",
       "        async function convertToInteractive(key) {\n",
       "          const element = document.querySelector('#df-d1e674dc-3c5d-4de1-a33b-29180cfc445d');\n",
       "          const dataTable =\n",
       "            await google.colab.kernel.invokeFunction('convertToInteractive',\n",
       "                                                     [key], {});\n",
       "          if (!dataTable) return;\n",
       "\n",
       "          const docLinkHtml = 'Like what you see? Visit the ' +\n",
       "            '<a target=\"_blank\" href=https://colab.research.google.com/notebooks/data_table.ipynb>data table notebook</a>'\n",
       "            + ' to learn more about interactive tables.';\n",
       "          element.innerHTML = '';\n",
       "          dataTable['output_type'] = 'display_data';\n",
       "          await google.colab.output.renderOutput(dataTable, element);\n",
       "          const docLink = document.createElement('div');\n",
       "          docLink.innerHTML = docLinkHtml;\n",
       "          element.appendChild(docLink);\n",
       "        }\n",
       "      </script>\n",
       "    </div>\n",
       "  </div>\n",
       "  "
      ],
      "text/plain": [
       "     greedy   viterbi       CNN    BiLSRM  API_basic  API_batch=16\n",
       "0  0.990234  0.979288  0.974795  0.988488   0.987861      0.989205"
      ]
     },
     "execution_count": 56,
     "metadata": {},
     "output_type": "execute_result"
    }
   ],
   "source": [
    "pd.DataFrame(data = [greedy_acc, viterbi_acc,CNN_accuracy,BiLSRM_accuracy,api_basic_acc,api_16_accuracy], index = ['greedy','viterbi','CNN','BiLSTM','API_basic','API_batch=16']).T"
   ]
  },
  {
   "cell_type": "markdown",
   "id": "06a5093d",
   "metadata": {},
   "source": [
    "## Conclusion"
   ]
  },
  {
   "cell_type": "markdown",
   "id": "469f0420",
   "metadata": {},
   "source": [
    "In conclusion, with respect to our goal regarding structured prediction we have beeen able to build an accurate POS tagger specialized in italian language. \n",
    "Across the models we trained, we indeed registered accuracies on test always above 97%, in particular the best result was yield by the greedy structured perceptron, with an accuracy on test data of more than 99%."
   ]
  }
 ],
 "metadata": {
  "accelerator": "GPU",
  "colab": {
   "collapsed_sections": [
    "7423800a"
   ],
   "machine_shape": "hm",
   "name": "Structuredprediction_part.ipynb",
   "provenance": []
  },
  "kernelspec": {
   "display_name": "Python 3 (ipykernel)",
   "language": "python",
   "name": "python3"
  },
  "language_info": {
   "codemirror_mode": {
    "name": "ipython",
    "version": 3
   },
   "file_extension": ".py",
   "mimetype": "text/x-python",
   "name": "python",
   "nbconvert_exporter": "python",
   "pygments_lexer": "ipython3",
   "version": "3.8.8"
  }
 },
 "nbformat": 4,
 "nbformat_minor": 5
}
